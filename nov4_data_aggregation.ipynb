{
 "cells": [
  {
   "cell_type": "code",
   "execution_count": 1,
   "metadata": {
    "collapsed": true
   },
   "outputs": [],
   "source": [
    "import pandas as pd\n",
    "import os\n",
    "import numpy as np\n",
    "import matplotlib.pylab as plt \n",
    "import re\n",
    "%matplotlib inline\n",
    "data_path = \"C:/Users/SpiffyApple/Documents/USC/Courses/Fall2016/PPD599/project/DATA_Nov4\""
   ]
  },
  {
   "cell_type": "code",
   "execution_count": 2,
   "metadata": {
    "collapsed": false
   },
   "outputs": [
    {
     "name": "stdout",
     "output_type": "stream",
     "text": [
      "['2006.csv', '2007.csv', '2008.csv', '2009.csv', '2010.csv', '2011.csv', '2012.csv', '2013.csv', '2014.csv', '2015.csv']\n"
     ]
    }
   ],
   "source": [
    "data_files = [str(x)+'.csv' for x in np.linspace(2006, 2015, 11).astype(int)]\n",
    "data_files = data_files[1:]\n",
    "data_dict = {}\n",
    "print(data_files)"
   ]
  },
  {
   "cell_type": "code",
   "execution_count": null,
   "metadata": {
    "collapsed": false
   },
   "outputs": [],
   "source": [
    "#test_df = pd.read_csv(\"/\".join([data_path, data_files[0]]), header=1, index_col=0)\n",
    "#.dropna().replace(\"%|\\$|,\", \"\", regex=True).astype(float).transpose()\n",
    "#test_df.columns = test_df.columns.str.lower()\n",
    "#test_df.index = test_df.index.str.extract(\"([\\w\\s]+) city\", expand=False)\n",
    "#test_df.dropna().head().transpose()"
   ]
  },
  {
   "cell_type": "code",
   "execution_count": 3,
   "metadata": {
    "collapsed": false
   },
   "outputs": [
    {
     "name": "stdout",
     "output_type": "stream",
     "text": [
      "data size of 2006: (116, 114)\n",
      "data size of 2007: (117, 115)\n",
      "data size of 2008: (118, 112)\n",
      "data size of 2009: (119, 116)\n",
      "data size of 2010: (124, 116)\n",
      "data size of 2011: (128, 116)\n",
      "data size of 2012: (130, 115)\n",
      "data size of 2013: (131, 115)\n",
      "data size of 2014: (132, 115)\n",
      "data size of 2015: (132, 115)\n"
     ]
    }
   ],
   "source": [
    "for data_file in data_files:\n",
    "    #print(data_file)\n",
    "    if \"csv\" in data_file:\n",
    "        key = re.findall(\"\\d+\", data_file)[0]\n",
    "        data_dict[key] = pd.read_csv(\"/\".join([data_path, data_file]), header=1, index_col=0).dropna(how='all').drop_duplicates().replace(\"%|\\$|,|\", \"\", regex=True).transpose()\n",
    "        data_dict[key].columns = data_dict[key].columns.str.lower()\n",
    "        data_dict[key].columns = [re.sub(\" \\([\\w\\s]+\\)|\\$|\\:| or more\", \"\", x) for x in data_dict[key].columns.tolist()]\n",
    "        data_dict[key].columns = [re.sub(\"  \", \" \", x) for x in data_dict[key].columns.tolist()]\n",
    "        data_dict[key] = data_dict[key].loc[:,~data_dict[key].columns.duplicated()]\n",
    "        data_dict[key].drop(data_dict[key].index[~data_dict[key].index.str.contains(\"city\")], inplace=True)\n",
    "        data_dict[key].index = data_dict[key].index.str.extract(\"([\\w\\s]+) city\", expand=False)\n",
    "        data_dict[key] = data_dict[key].loc[data_dict[key].index != np.nan]\n",
    "        print(\"data size of %s:\" %key,data_dict[key].shape)"
   ]
  },
  {
   "cell_type": "code",
   "execution_count": 4,
   "metadata": {
    "collapsed": false
   },
   "outputs": [
    {
     "name": "stdout",
     "output_type": "stream",
     "text": [
      "2008\n",
      "num of common cols: 103\n"
     ]
    }
   ],
   "source": [
    "common_cols = set(data_dict['2006'].columns)\n",
    "missing_cols = {}\n",
    "for key in data_dict.keys():\n",
    "    common_cols = common_cols.intersection(data_dict[key].columns)\n",
    "    if \"living in poverty\" not in data_dict[key].columns:\n",
    "        print(key)\n",
    "for key in data_dict.keys():\n",
    "    missing_cols[key] = common_cols.difference(data_dict[key].columns)\n",
    "    \n",
    "print(\"num of common cols: %d\" %len(common_cols))\n",
    "#print(common_cols)"
   ]
  },
  {
   "cell_type": "code",
   "execution_count": 5,
   "metadata": {
    "collapsed": false
   },
   "outputs": [],
   "source": [
    "keys = data_dict.keys()\n",
    "df = pd.concat([data_dict[key][list(common_cols)] for key in keys],keys = keys)"
   ]
  },
  {
   "cell_type": "code",
   "execution_count": 6,
   "metadata": {
    "collapsed": false
   },
   "outputs": [
    {
     "data": {
      "text/html": [
       "<div>\n",
       "<table border=\"1\" class=\"dataframe\">\n",
       "  <thead>\n",
       "    <tr style=\"text-align: right;\">\n",
       "      <th></th>\n",
       "      <th></th>\n",
       "      <th>2,000</th>\n",
       "      <th>divorced</th>\n",
       "      <th>1,500 to 1,999</th>\n",
       "      <th>under 5 years</th>\n",
       "      <th>35 to 44 years</th>\n",
       "      <th>10,000 to 14,999</th>\n",
       "      <th>two races householder</th>\n",
       "      <th>population density (per sq. mile)</th>\n",
       "      <th>1, attached</th>\n",
       "      <th>asian alone</th>\n",
       "      <th>...</th>\n",
       "      <th>60,000 to 74,999</th>\n",
       "      <th>some college</th>\n",
       "      <th>native hawaiian and other pacific islander alone householder</th>\n",
       "      <th>black or african american alone householder</th>\n",
       "      <th>less than high school</th>\n",
       "      <th>unemployed</th>\n",
       "      <th>native born</th>\n",
       "      <th>median year structure built</th>\n",
       "      <th>18 to 24 years</th>\n",
       "      <th>renter occupied</th>\n",
       "    </tr>\n",
       "  </thead>\n",
       "  <tbody>\n",
       "    <tr>\n",
       "      <th rowspan=\"5\" valign=\"top\">2009</th>\n",
       "      <th>Alameda</th>\n",
       "      <td>NaN</td>\n",
       "      <td>8143</td>\n",
       "      <td>NaN</td>\n",
       "      <td>4106</td>\n",
       "      <td>11745</td>\n",
       "      <td>2288</td>\n",
       "      <td>47972</td>\n",
       "      <td>6595.3</td>\n",
       "      <td>3708</td>\n",
       "      <td>NaN</td>\n",
       "      <td>...</td>\n",
       "      <td>2968</td>\n",
       "      <td>14896</td>\n",
       "      <td>NaN</td>\n",
       "      <td>NaN</td>\n",
       "      <td>5000</td>\n",
       "      <td>3913</td>\n",
       "      <td>49194</td>\n",
       "      <td>1962</td>\n",
       "      <td>3746</td>\n",
       "      <td>15396</td>\n",
       "    </tr>\n",
       "    <tr>\n",
       "      <th>Alhambra</th>\n",
       "      <td>NaN</td>\n",
       "      <td>5983</td>\n",
       "      <td>NaN</td>\n",
       "      <td>5213</td>\n",
       "      <td>11040</td>\n",
       "      <td>1431</td>\n",
       "      <td>42093</td>\n",
       "      <td>11161.9</td>\n",
       "      <td>4300</td>\n",
       "      <td>42174</td>\n",
       "      <td>...</td>\n",
       "      <td>2792</td>\n",
       "      <td>17528</td>\n",
       "      <td>NaN</td>\n",
       "      <td>87969</td>\n",
       "      <td>13758</td>\n",
       "      <td>3487</td>\n",
       "      <td>43323</td>\n",
       "      <td>1953</td>\n",
       "      <td>7284</td>\n",
       "      <td>16331</td>\n",
       "    </tr>\n",
       "    <tr>\n",
       "      <th>Anaheim</th>\n",
       "      <td>4570</td>\n",
       "      <td>20080</td>\n",
       "      <td>9540</td>\n",
       "      <td>30617</td>\n",
       "      <td>47777</td>\n",
       "      <td>3932</td>\n",
       "      <td>66762</td>\n",
       "      <td>6904.0</td>\n",
       "      <td>8914</td>\n",
       "      <td>48024</td>\n",
       "      <td>...</td>\n",
       "      <td>12213</td>\n",
       "      <td>56840</td>\n",
       "      <td>76787</td>\n",
       "      <td>48753</td>\n",
       "      <td>55334</td>\n",
       "      <td>21037</td>\n",
       "      <td>210788</td>\n",
       "      <td>1971</td>\n",
       "      <td>32099</td>\n",
       "      <td>50997</td>\n",
       "    </tr>\n",
       "    <tr>\n",
       "      <th>Antioch</th>\n",
       "      <td>NaN</td>\n",
       "      <td>6356</td>\n",
       "      <td>NaN</td>\n",
       "      <td>9088</td>\n",
       "      <td>12789</td>\n",
       "      <td>1753</td>\n",
       "      <td>45112</td>\n",
       "      <td>3754.0</td>\n",
       "      <td>1361</td>\n",
       "      <td>8632</td>\n",
       "      <td>...</td>\n",
       "      <td>2721</td>\n",
       "      <td>23002</td>\n",
       "      <td>NaN</td>\n",
       "      <td>39936</td>\n",
       "      <td>7472</td>\n",
       "      <td>7192</td>\n",
       "      <td>80463</td>\n",
       "      <td>1981</td>\n",
       "      <td>13502</td>\n",
       "      <td>11307</td>\n",
       "    </tr>\n",
       "    <tr>\n",
       "      <th>Bakersfield</th>\n",
       "      <td>1497</td>\n",
       "      <td>25185</td>\n",
       "      <td>3039</td>\n",
       "      <td>31338</td>\n",
       "      <td>42173</td>\n",
       "      <td>5623</td>\n",
       "      <td>54186</td>\n",
       "      <td>2869.0</td>\n",
       "      <td>2266</td>\n",
       "      <td>14041</td>\n",
       "      <td>...</td>\n",
       "      <td>9776</td>\n",
       "      <td>61535</td>\n",
       "      <td>NaN</td>\n",
       "      <td>31257</td>\n",
       "      <td>41020</td>\n",
       "      <td>16873</td>\n",
       "      <td>270999</td>\n",
       "      <td>1984</td>\n",
       "      <td>35106</td>\n",
       "      <td>43296</td>\n",
       "    </tr>\n",
       "  </tbody>\n",
       "</table>\n",
       "<p>5 rows × 103 columns</p>\n",
       "</div>"
      ],
      "text/plain": [
       "                 2,000 divorced 1,500 to 1,999 under 5 years 35 to 44 years  \\\n",
       "2009 Alameda       NaN     8143            NaN          4106          11745   \n",
       "     Alhambra      NaN     5983            NaN          5213          11040   \n",
       "     Anaheim      4570    20080           9540         30617          47777   \n",
       "     Antioch       NaN     6356            NaN          9088          12789   \n",
       "     Bakersfield  1497    25185           3039         31338          42173   \n",
       "\n",
       "                 10,000 to 14,999 two races householder  \\\n",
       "2009 Alameda                 2288                 47972   \n",
       "     Alhambra                1431                 42093   \n",
       "     Anaheim                 3932                 66762   \n",
       "     Antioch                 1753                 45112   \n",
       "     Bakersfield             5623                 54186   \n",
       "\n",
       "                 population density (per sq. mile) 1, attached asian alone  \\\n",
       "2009 Alameda                                6595.3        3708         NaN   \n",
       "     Alhambra                              11161.9        4300       42174   \n",
       "     Anaheim                                6904.0        8914       48024   \n",
       "     Antioch                                3754.0        1361        8632   \n",
       "     Bakersfield                            2869.0        2266       14041   \n",
       "\n",
       "                       ...       60,000 to 74,999 some college  \\\n",
       "2009 Alameda           ...                   2968        14896   \n",
       "     Alhambra          ...                   2792        17528   \n",
       "     Anaheim           ...                  12213        56840   \n",
       "     Antioch           ...                   2721        23002   \n",
       "     Bakersfield       ...                   9776        61535   \n",
       "\n",
       "                 native hawaiian and other pacific islander alone householder  \\\n",
       "2009 Alameda                                                    NaN             \n",
       "     Alhambra                                                   NaN             \n",
       "     Anaheim                                                  76787             \n",
       "     Antioch                                                    NaN             \n",
       "     Bakersfield                                                NaN             \n",
       "\n",
       "                 black or african american alone householder  \\\n",
       "2009 Alameda                                             NaN   \n",
       "     Alhambra                                          87969   \n",
       "     Anaheim                                           48753   \n",
       "     Antioch                                           39936   \n",
       "     Bakersfield                                       31257   \n",
       "\n",
       "                 less than high school unemployed native born  \\\n",
       "2009 Alameda                      5000       3913       49194   \n",
       "     Alhambra                    13758       3487       43323   \n",
       "     Anaheim                     55334      21037      210788   \n",
       "     Antioch                      7472       7192       80463   \n",
       "     Bakersfield                 41020      16873      270999   \n",
       "\n",
       "                 median year structure built 18 to 24 years renter occupied  \n",
       "2009 Alameda                            1962           3746           15396  \n",
       "     Alhambra                           1953           7284           16331  \n",
       "     Anaheim                            1971          32099           50997  \n",
       "     Antioch                            1981          13502           11307  \n",
       "     Bakersfield                        1984          35106           43296  \n",
       "\n",
       "[5 rows x 103 columns]"
      ]
     },
     "execution_count": 6,
     "metadata": {},
     "output_type": "execute_result"
    }
   ],
   "source": [
    "df.head()"
   ]
  },
  {
   "cell_type": "code",
   "execution_count": 7,
   "metadata": {
    "collapsed": false
   },
   "outputs": [],
   "source": [
    "df.index.names = ['year', 'city']"
   ]
  },
  {
   "cell_type": "code",
   "execution_count": null,
   "metadata": {
    "collapsed": false
   },
   "outputs": [],
   "source": [
    "#df = df.astype(float)"
   ]
  },
  {
   "cell_type": "code",
   "execution_count": 8,
   "metadata": {
    "collapsed": false
   },
   "outputs": [
    {
     "data": {
      "text/plain": [
       "array([False, False, False, False, False, False, False, False, False,\n",
       "       False, False, False, False, False, False, False, False, False,\n",
       "       False, False, False, False, False, False, False, False, False,\n",
       "       False, False, False, False, False, False, False, False, False,\n",
       "       False, False, False, False, False, False, False, False, False,\n",
       "       False, False, False, False, False, False, False, False, False,\n",
       "       False, False, False, False, False, False, False, False, False,\n",
       "       False, False, False, False, False, False, False, False, False,\n",
       "       False, False, False, False, False, False, False, False, False,\n",
       "       False, False, False, False, False, False, False, False, False,\n",
       "       False, False, False, False, False, False, False, False, False,\n",
       "       False, False, False, False], dtype=bool)"
      ]
     },
     "execution_count": 8,
     "metadata": {},
     "output_type": "execute_result"
    }
   ],
   "source": [
    "df.columns.str.contains('poverty')"
   ]
  },
  {
   "cell_type": "code",
   "execution_count": 9,
   "metadata": {
    "collapsed": false
   },
   "outputs": [
    {
     "data": {
      "text/plain": [
       "Index(['Los Angeles'], dtype='object', name='city')"
      ]
     },
     "execution_count": 9,
     "metadata": {},
     "output_type": "execute_result"
    }
   ],
   "source": [
    "df.index.levels[1][df.index.levels[1].str.contains(\"Los Angeles\")]"
   ]
  },
  {
   "cell_type": "code",
   "execution_count": 10,
   "metadata": {
    "collapsed": false
   },
   "outputs": [],
   "source": [
    "df = df.astype(float)"
   ]
  },
  {
   "cell_type": "code",
   "execution_count": 16,
   "metadata": {
    "collapsed": false
   },
   "outputs": [],
   "source": [
    "#df['prop_male'] = df['male'].div(df['total population'])\n",
    "df['prop_black'] = df['black or african american alone'].div(df['total population'])\n",
    "df['high_or_less'] = (df['less than high school'] + df['high school graduate']).div(df['population 25 years and over'])\n",
    "df['rent_rate'] = df['renter occupied'].div(df['housing units'])\n",
    "df['rent_to_income'] = df['median gross rent'].div(df['median household income'])\n",
    "df['unemployment_rate'] = df['unemployed'].div(df['civilian population in labor force 16 years and over'])\n",
    "df['foreign_rate'] = df['foreign born'].div(df['total population'])\n",
    "#df['poverty_rate'] = df['living in poverty'].div(df['population age 18 to 64 for whom poverty status is determined'])"
   ]
  },
  {
   "cell_type": "code",
   "execution_count": 17,
   "metadata": {
    "collapsed": false
   },
   "outputs": [
    {
     "data": {
      "text/plain": [
       "Index(['2,000', '1,500 to 1,999', 'under 5 years', '35 to 44 years',\n",
       "       'hh10to15', '1, attached', '10 to 19', 'less than 10,000',\n",
       "       '25 to 34 years', 'hh75to100', '800 to 999', '20 to 49',\n",
       "       '1,000 to 1,249', '45 to 54 years', 'hh20to25', '1 unit', '1, detached',\n",
       "       '55 to 64 years', 'hh200over', '3 or 4', '50', 'hh25to30', 'hh50to60',\n",
       "       '75 to 84 years', 'hh125to150', '10 to 14 years', '600 to 799',\n",
       "       'hh35to40', '10 to 29 percent', 'less than 300', 'hh150to200',\n",
       "       'hh40to45', 'hh30to35', 'population 25 years and over',\n",
       "       'civilian population in labor force 16 years and over',\n",
       "       '1,250 to 1,499', 'population 15 years and over', '85 years and over',\n",
       "       '15 to 17 years', '5 to 9 years', 'hh100to125', '30 to 49 percent',\n",
       "       '300 to 599', '65 to 74 years', '5 to 9', 'less than 10 percent',\n",
       "       'hh45to50', '2', '50 percent', 'hh15to20', 'hh60to75', '18 to 24 years',\n",
       "       'ami80', 'ami60', 'ami40'],\n",
       "      dtype='object')"
      ]
     },
     "execution_count": 17,
     "metadata": {},
     "output_type": "execute_result"
    }
   ],
   "source": [
    "df.columns[df.columns.str.contains(\"\\d+\")]"
   ]
  },
  {
   "cell_type": "code",
   "execution_count": 18,
   "metadata": {
    "collapsed": false
   },
   "outputs": [],
   "source": [
    "df.rename(columns={'10,000 to 14,999':'hh10to15', '100,000 to 124,999':'hh100to125', '125,000 to 149,999':'hh125to150',\n",
    "       '15,000 to 19,999':'hh15to20', '150,000 to 199,999':'hh150to200', '20,000 to 24,999':'hh20to25', '200,000':'hh200over',\n",
    "       '25,000 to 29,999':'hh25to30', '30,000 to 34,999':'hh30to35', '35,000 to 39,999':'hh35to40',\n",
    "       '40,000 to 44,999':'hh40to45', '45,000 to 49,999':'hh45to50', '50,000 to 59,999':'hh50to60',\n",
    "       '60,000 to 74,999':'hh60to75', '75,000 to 99,999':'hh75to100',}, inplace=True)"
   ]
  },
  {
   "cell_type": "code",
   "execution_count": 19,
   "metadata": {
    "collapsed": false
   },
   "outputs": [],
   "source": [
    "df['ami80'] = df['median household income']*.8\n",
    "df['ami60'] = df['median household income']*.6\n",
    "df['ami40'] = df['median household income']*.4"
   ]
  },
  {
   "cell_type": "code",
   "execution_count": 20,
   "metadata": {
    "collapsed": false
   },
   "outputs": [
    {
     "data": {
      "text/plain": [
       "Float64Index([ 100000.0,  750000.0,  200000.0, 2000000.0,  250000.0,  500000.0,\n",
       "              1250000.0,  350000.0, 1500000.0,  400000.0,  300000.0, 1000000.0,\n",
       "               450000.0,  150000.0,  600000.0],\n",
       "             dtype='float64')"
      ]
     },
     "execution_count": 20,
     "metadata": {},
     "output_type": "execute_result"
    }
   ],
   "source": [
    "df.columns[df.columns.str.contains(\"hh\")].str.extract(\"hh(\\d+)\", expand=False).astype(int)*10e3"
   ]
  },
  {
   "cell_type": "code",
   "execution_count": 21,
   "metadata": {
    "collapsed": false
   },
   "outputs": [
    {
     "data": {
      "text/plain": [
       "True"
      ]
     },
     "execution_count": 21,
     "metadata": {},
     "output_type": "execute_result"
    }
   ],
   "source": [
    "\"Bakersfield\" in df.index.levels[1]"
   ]
  },
  {
   "cell_type": "code",
   "execution_count": 22,
   "metadata": {
    "collapsed": false
   },
   "outputs": [
    {
     "data": {
      "text/plain": [
       "True"
      ]
     },
     "execution_count": 22,
     "metadata": {},
     "output_type": "execute_result"
    }
   ],
   "source": [
    "\"San Jose\" in df.index.levels[1]"
   ]
  },
  {
   "cell_type": "code",
   "execution_count": 23,
   "metadata": {
    "collapsed": true
   },
   "outputs": [],
   "source": [
    "df.to_csv(\"/\".join([data_path,\"acs_2006_2015.csv\"]))"
   ]
  },
  {
   "cell_type": "code",
   "execution_count": 60,
   "metadata": {
    "collapsed": false
   },
   "outputs": [
    {
     "name": "stdout",
     "output_type": "stream",
     "text": [
      "data size of 1980: (254, 104)\n",
      "data size of 1990: (448, 102)\n",
      "data size of 2000: (463, 107)\n"
     ]
    }
   ],
   "source": [
    "data_dict = {}\n",
    "for key in  ['1980','1990', '2000']:\n",
    "    data_dict[key] = pd.read_csv(\"/\".join([data_path,key+'.csv']),header=1, index_col = 0).dropna(how='all').replace(\"%|\\$|,|\", \"\", regex=True).transpose()\n",
    "    data_dict[key].columns = data_dict[key].columns.str.lower()\n",
    "    data_dict[key].columns = [re.sub(\" \\([\\w\\s]+\\)|\\$|\\:| or more\", \"\", x) for x in data_dict[key].columns.tolist()]\n",
    "    data_dict[key].columns = [re.sub(\"  \", \" \", x) for x in data_dict[key].columns.tolist()]\n",
    "    data_dict[key] = data_dict[key].loc[:,~data_dict[key].columns.duplicated()]\n",
    "    data_dict[key].drop(data_dict[key].index[~data_dict[key].index.str.lower().str.contains(\"city\")], inplace=True)\n",
    "    data_dict[key].index = data_dict[key].index.str.lower().str.extract(\"([\\w\\s]+) city\", expand=False).str.title()\n",
    "    data_dict[key] = data_dict[key].loc[data_dict[key].index != np.nan]\n",
    "    print(\"data size of %s:\" %key,data_dict[key].shape)"
   ]
  },
  {
   "cell_type": "code",
   "execution_count": 61,
   "metadata": {
    "collapsed": false
   },
   "outputs": [
    {
     "name": "stdout",
     "output_type": "stream",
     "text": [
      "num of common cols: 47\n"
     ]
    }
   ],
   "source": [
    "common_cols = set(data_dict['1980'])   \n",
    "for key in data_dict.keys():\n",
    "    common_cols = common_cols.intersection(data_dict[key].columns)\n",
    "    if \"living in poverty\" not in data_dict[key].columns:\n",
    "        print(key)\n",
    "print(\"num of common cols: %d\" %len(common_cols))"
   ]
  },
  {
   "cell_type": "code",
   "execution_count": 62,
   "metadata": {
    "collapsed": false
   },
   "outputs": [],
   "source": [
    "#common_cols"
   ]
  },
  {
   "cell_type": "code",
   "execution_count": 63,
   "metadata": {
    "collapsed": false
   },
   "outputs": [
    {
     "name": "stdout",
     "output_type": "stream",
     "text": [
      "dict_keys(['1990', '1980', '2000'])\n"
     ]
    }
   ],
   "source": [
    "keys = data_dict.keys()\n",
    "print(keys)\n",
    "census_df = pd.concat([data_dict[x][list(common_cols)] for x in keys], keys = keys)"
   ]
  },
  {
   "cell_type": "code",
   "execution_count": 64,
   "metadata": {
    "collapsed": false
   },
   "outputs": [
    {
     "data": {
      "text/plain": [
       "(1165, 47)"
      ]
     },
     "execution_count": 64,
     "metadata": {},
     "output_type": "execute_result"
    }
   ],
   "source": [
    "census_df.shape"
   ]
  },
  {
   "cell_type": "code",
   "execution_count": 65,
   "metadata": {
    "collapsed": false
   },
   "outputs": [
    {
     "data": {
      "text/plain": [
       "Index(['owner occupied', '15 to 17 years', 'widowed', 'divorced', 'households',\n",
       "       'median household income', 'never married', '5 to 9 years',\n",
       "       'black or african american alone', 'occupied', 'total population',\n",
       "       'foreign born', '45 to 54 years', '1 unit', 'not living in poverty',\n",
       "       '35 to 44 years', '1, detached', '55 to 64 years',\n",
       "       'occupied housing units', '65 to 74 years',\n",
       "       'population 25 years and over', 'vacant', '1, attached', '2',\n",
       "       'specified renter-occupied housing units', 'white alone',\n",
       "       '75 to 84 years',\n",
       "       'civilian population in labor force 16 years and over', 'now married',\n",
       "       'not computed', '10 to 14 years', 'employed', 'less than high school',\n",
       "       'living in poverty', '25 to 34 years', 'unemployed',\n",
       "       'population 15 years and over', 'native born', 'housing units',\n",
       "       'median gross rent', '85 years and over', 'high school graduate',\n",
       "       'median year structure built',\n",
       "       'population age 18 to 64 for whom poverty status is determined',\n",
       "       '18 to 24 years', 'separated', 'renter occupied'],\n",
       "      dtype='object')"
      ]
     },
     "execution_count": 65,
     "metadata": {},
     "output_type": "execute_result"
    }
   ],
   "source": [
    "census_df.columns"
   ]
  },
  {
   "cell_type": "code",
   "execution_count": 66,
   "metadata": {
    "collapsed": false
   },
   "outputs": [],
   "source": [
    "census_df = census_df.astype(float)"
   ]
  },
  {
   "cell_type": "code",
   "execution_count": 67,
   "metadata": {
    "collapsed": false
   },
   "outputs": [],
   "source": [
    "census_df['prop_black'] = census_df['black or african american alone'].div(census_df['total population'])\n",
    "census_df['high_or_less'] = (census_df['less than high school'] + census_df['high school graduate']).div(census_df['population 25 years and over'])\n",
    "census_df['rent_rate'] = census_df['renter occupied'].div(census_df['housing units'])\n",
    "census_df['rent_to_income'] = census_df['median gross rent'].div(census_df['median household income'])\n",
    "census_df['unemployment_rate'] = census_df['unemployed'].div(census_df['civilian population in labor force 16 years and over'])\n",
    "census_df['foreign_rate'] = census_df['foreign born'].div(census_df['total population'])"
   ]
  },
  {
   "cell_type": "code",
   "execution_count": 68,
   "metadata": {
    "collapsed": false
   },
   "outputs": [
    {
     "data": {
      "text/html": [
       "<div>\n",
       "<table border=\"1\" class=\"dataframe\">\n",
       "  <thead>\n",
       "    <tr style=\"text-align: right;\">\n",
       "      <th></th>\n",
       "      <th></th>\n",
       "      <th>owner occupied</th>\n",
       "      <th>15 to 17 years</th>\n",
       "      <th>widowed</th>\n",
       "      <th>divorced</th>\n",
       "      <th>households</th>\n",
       "      <th>median household income</th>\n",
       "      <th>never married</th>\n",
       "      <th>5 to 9 years</th>\n",
       "      <th>black or african american alone</th>\n",
       "      <th>occupied</th>\n",
       "      <th>...</th>\n",
       "      <th>population age 18 to 64 for whom poverty status is determined</th>\n",
       "      <th>18 to 24 years</th>\n",
       "      <th>separated</th>\n",
       "      <th>renter occupied</th>\n",
       "      <th>prop_black</th>\n",
       "      <th>high_or_less</th>\n",
       "      <th>rent_rate</th>\n",
       "      <th>rent_to_income</th>\n",
       "      <th>unemployment_rate</th>\n",
       "      <th>foreign_rate</th>\n",
       "    </tr>\n",
       "  </thead>\n",
       "  <tbody>\n",
       "    <tr>\n",
       "      <th rowspan=\"5\" valign=\"top\">1990</th>\n",
       "      <th>Adelanto</th>\n",
       "      <td>872.0</td>\n",
       "      <td>282.0</td>\n",
       "      <td>199.0</td>\n",
       "      <td>590.0</td>\n",
       "      <td>2875.0</td>\n",
       "      <td>18835.0</td>\n",
       "      <td>1223.0</td>\n",
       "      <td>976.0</td>\n",
       "      <td>1156.0</td>\n",
       "      <td>2881.0</td>\n",
       "      <td>...</td>\n",
       "      <td>4986.0</td>\n",
       "      <td>1105.0</td>\n",
       "      <td>252.0</td>\n",
       "      <td>2009.0</td>\n",
       "      <td>0.135729</td>\n",
       "      <td>0.668203</td>\n",
       "      <td>0.622560</td>\n",
       "      <td>0.022246</td>\n",
       "      <td>0.183058</td>\n",
       "      <td>0.089820</td>\n",
       "    </tr>\n",
       "    <tr>\n",
       "      <th>Agoura Hills</th>\n",
       "      <td>5513.0</td>\n",
       "      <td>1090.0</td>\n",
       "      <td>337.0</td>\n",
       "      <td>1187.0</td>\n",
       "      <td>6626.0</td>\n",
       "      <td>70919.0</td>\n",
       "      <td>3723.0</td>\n",
       "      <td>1839.0</td>\n",
       "      <td>228.0</td>\n",
       "      <td>6610.0</td>\n",
       "      <td>...</td>\n",
       "      <td>13224.0</td>\n",
       "      <td>1626.0</td>\n",
       "      <td>224.0</td>\n",
       "      <td>1097.0</td>\n",
       "      <td>0.011182</td>\n",
       "      <td>0.214481</td>\n",
       "      <td>0.158366</td>\n",
       "      <td>0.013565</td>\n",
       "      <td>0.036119</td>\n",
       "      <td>0.140461</td>\n",
       "    </tr>\n",
       "    <tr>\n",
       "      <th>Alameda</th>\n",
       "      <td>13443.0</td>\n",
       "      <td>2087.0</td>\n",
       "      <td>4212.0</td>\n",
       "      <td>7075.0</td>\n",
       "      <td>29235.0</td>\n",
       "      <td>38122.0</td>\n",
       "      <td>19892.0</td>\n",
       "      <td>4465.0</td>\n",
       "      <td>4953.0</td>\n",
       "      <td>29078.0</td>\n",
       "      <td>...</td>\n",
       "      <td>45147.0</td>\n",
       "      <td>10292.0</td>\n",
       "      <td>1357.0</td>\n",
       "      <td>15635.0</td>\n",
       "      <td>0.064780</td>\n",
       "      <td>0.355518</td>\n",
       "      <td>0.512287</td>\n",
       "      <td>0.017733</td>\n",
       "      <td>0.043847</td>\n",
       "      <td>0.172275</td>\n",
       "    </tr>\n",
       "    <tr>\n",
       "      <th>Albany</th>\n",
       "      <td>3297.0</td>\n",
       "      <td>445.0</td>\n",
       "      <td>989.0</td>\n",
       "      <td>1465.0</td>\n",
       "      <td>7203.0</td>\n",
       "      <td>34836.0</td>\n",
       "      <td>3775.0</td>\n",
       "      <td>1058.0</td>\n",
       "      <td>946.0</td>\n",
       "      <td>7192.0</td>\n",
       "      <td>...</td>\n",
       "      <td>10803.0</td>\n",
       "      <td>1371.0</td>\n",
       "      <td>293.0</td>\n",
       "      <td>3895.0</td>\n",
       "      <td>0.057941</td>\n",
       "      <td>0.226562</td>\n",
       "      <td>0.521559</td>\n",
       "      <td>0.018946</td>\n",
       "      <td>0.029641</td>\n",
       "      <td>0.251853</td>\n",
       "    </tr>\n",
       "    <tr>\n",
       "      <th>Alhambra</th>\n",
       "      <td>11463.0</td>\n",
       "      <td>3145.0</td>\n",
       "      <td>5166.0</td>\n",
       "      <td>5185.0</td>\n",
       "      <td>28362.0</td>\n",
       "      <td>31368.0</td>\n",
       "      <td>23125.0</td>\n",
       "      <td>4878.0</td>\n",
       "      <td>1482.0</td>\n",
       "      <td>28239.0</td>\n",
       "      <td>...</td>\n",
       "      <td>51897.0</td>\n",
       "      <td>10117.0</td>\n",
       "      <td>1587.0</td>\n",
       "      <td>16776.0</td>\n",
       "      <td>0.018050</td>\n",
       "      <td>0.486456</td>\n",
       "      <td>0.566680</td>\n",
       "      <td>0.020275</td>\n",
       "      <td>0.060517</td>\n",
       "      <td>0.469077</td>\n",
       "    </tr>\n",
       "  </tbody>\n",
       "</table>\n",
       "<p>5 rows × 53 columns</p>\n",
       "</div>"
      ],
      "text/plain": [
       "                   owner occupied  15 to 17 years  widowed  divorced  \\\n",
       "1990 Adelanto               872.0           282.0    199.0     590.0   \n",
       "     Agoura Hills          5513.0          1090.0    337.0    1187.0   \n",
       "     Alameda              13443.0          2087.0   4212.0    7075.0   \n",
       "     Albany                3297.0           445.0    989.0    1465.0   \n",
       "     Alhambra             11463.0          3145.0   5166.0    5185.0   \n",
       "\n",
       "                   households  median household income  never married  \\\n",
       "1990 Adelanto          2875.0                  18835.0         1223.0   \n",
       "     Agoura Hills      6626.0                  70919.0         3723.0   \n",
       "     Alameda          29235.0                  38122.0        19892.0   \n",
       "     Albany            7203.0                  34836.0         3775.0   \n",
       "     Alhambra         28362.0                  31368.0        23125.0   \n",
       "\n",
       "                   5 to 9 years  black or african american alone  occupied  \\\n",
       "1990 Adelanto             976.0                           1156.0    2881.0   \n",
       "     Agoura Hills        1839.0                            228.0    6610.0   \n",
       "     Alameda             4465.0                           4953.0   29078.0   \n",
       "     Albany              1058.0                            946.0    7192.0   \n",
       "     Alhambra            4878.0                           1482.0   28239.0   \n",
       "\n",
       "                       ...       \\\n",
       "1990 Adelanto          ...        \n",
       "     Agoura Hills      ...        \n",
       "     Alameda           ...        \n",
       "     Albany            ...        \n",
       "     Alhambra          ...        \n",
       "\n",
       "                   population age 18 to 64 for whom poverty status is determined  \\\n",
       "1990 Adelanto                                                 4986.0               \n",
       "     Agoura Hills                                            13224.0               \n",
       "     Alameda                                                 45147.0               \n",
       "     Albany                                                  10803.0               \n",
       "     Alhambra                                                51897.0               \n",
       "\n",
       "                   18 to 24 years  separated  renter occupied  prop_black  \\\n",
       "1990 Adelanto              1105.0      252.0           2009.0    0.135729   \n",
       "     Agoura Hills          1626.0      224.0           1097.0    0.011182   \n",
       "     Alameda              10292.0     1357.0          15635.0    0.064780   \n",
       "     Albany                1371.0      293.0           3895.0    0.057941   \n",
       "     Alhambra             10117.0     1587.0          16776.0    0.018050   \n",
       "\n",
       "                   high_or_less  rent_rate  rent_to_income  unemployment_rate  \\\n",
       "1990 Adelanto          0.668203   0.622560        0.022246           0.183058   \n",
       "     Agoura Hills      0.214481   0.158366        0.013565           0.036119   \n",
       "     Alameda           0.355518   0.512287        0.017733           0.043847   \n",
       "     Albany            0.226562   0.521559        0.018946           0.029641   \n",
       "     Alhambra          0.486456   0.566680        0.020275           0.060517   \n",
       "\n",
       "                   foreign_rate  \n",
       "1990 Adelanto          0.089820  \n",
       "     Agoura Hills      0.140461  \n",
       "     Alameda           0.172275  \n",
       "     Albany            0.251853  \n",
       "     Alhambra          0.469077  \n",
       "\n",
       "[5 rows x 53 columns]"
      ]
     },
     "execution_count": 68,
     "metadata": {},
     "output_type": "execute_result"
    }
   ],
   "source": [
    "census_df.head()"
   ]
  },
  {
   "cell_type": "code",
   "execution_count": 69,
   "metadata": {
    "collapsed": false
   },
   "outputs": [
    {
     "name": "stdout",
     "output_type": "stream",
     "text": [
      "acs shape: (1247, 112)\n",
      "census shape: (1165, 53)\n",
      "combined shape: (2412, 118)\n"
     ]
    }
   ],
   "source": [
    "print('acs shape:', df.shape)\n",
    "print(\"census shape:\", census_df.shape)\n",
    "t_df = pd.concat([df, census_df])\n",
    "print(\"combined shape:\", t_df.shape)"
   ]
  },
  {
   "cell_type": "code",
   "execution_count": 71,
   "metadata": {
    "collapsed": false
   },
   "outputs": [
    {
     "data": {
      "text/plain": [
       "(2412, 118)"
      ]
     },
     "execution_count": 71,
     "metadata": {},
     "output_type": "execute_result"
    }
   ],
   "source": [
    "t_df.sort_index(inplace=True)\n",
    "t_df.shape"
   ]
  },
  {
   "cell_type": "code",
   "execution_count": 72,
   "metadata": {
    "collapsed": false
   },
   "outputs": [
    {
     "data": {
      "text/html": [
       "<div>\n",
       "<table border=\"1\" class=\"dataframe\">\n",
       "  <thead>\n",
       "    <tr style=\"text-align: right;\">\n",
       "      <th></th>\n",
       "      <th></th>\n",
       "      <th>1 unit</th>\n",
       "      <th>1, attached</th>\n",
       "      <th>1, detached</th>\n",
       "      <th>1,000 to 1,249</th>\n",
       "      <th>1,250 to 1,499</th>\n",
       "      <th>1,500 to 1,999</th>\n",
       "      <th>10 to 14 years</th>\n",
       "      <th>10 to 19</th>\n",
       "      <th>10 to 29 percent</th>\n",
       "      <th>15 to 17 years</th>\n",
       "      <th>...</th>\n",
       "      <th>two races</th>\n",
       "      <th>two races householder</th>\n",
       "      <th>under 5 years</th>\n",
       "      <th>unemployed</th>\n",
       "      <th>unemployment_rate</th>\n",
       "      <th>vacant</th>\n",
       "      <th>white alone</th>\n",
       "      <th>white alone householder</th>\n",
       "      <th>white alone householder, not hispanic or latino</th>\n",
       "      <th>widowed</th>\n",
       "    </tr>\n",
       "    <tr>\n",
       "      <th>year</th>\n",
       "      <th>city</th>\n",
       "      <th></th>\n",
       "      <th></th>\n",
       "      <th></th>\n",
       "      <th></th>\n",
       "      <th></th>\n",
       "      <th></th>\n",
       "      <th></th>\n",
       "      <th></th>\n",
       "      <th></th>\n",
       "      <th></th>\n",
       "      <th></th>\n",
       "      <th></th>\n",
       "      <th></th>\n",
       "      <th></th>\n",
       "      <th></th>\n",
       "      <th></th>\n",
       "      <th></th>\n",
       "      <th></th>\n",
       "      <th></th>\n",
       "      <th></th>\n",
       "      <th></th>\n",
       "    </tr>\n",
       "  </thead>\n",
       "  <tbody>\n",
       "    <tr>\n",
       "      <th rowspan=\"5\" valign=\"top\">1980</th>\n",
       "      <th>NaN</th>\n",
       "      <td>19335.0</td>\n",
       "      <td>1915.0</td>\n",
       "      <td>17420.0</td>\n",
       "      <td>NaN</td>\n",
       "      <td>NaN</td>\n",
       "      <td>NaN</td>\n",
       "      <td>5566.0</td>\n",
       "      <td>NaN</td>\n",
       "      <td>NaN</td>\n",
       "      <td>3907.0</td>\n",
       "      <td>...</td>\n",
       "      <td>NaN</td>\n",
       "      <td>NaN</td>\n",
       "      <td>NaN</td>\n",
       "      <td>1767.0</td>\n",
       "      <td>0.048353</td>\n",
       "      <td>1429.0</td>\n",
       "      <td>62422.0</td>\n",
       "      <td>NaN</td>\n",
       "      <td>NaN</td>\n",
       "      <td>4170.0</td>\n",
       "    </tr>\n",
       "    <tr>\n",
       "      <th>Alameda</th>\n",
       "      <td>12156.0</td>\n",
       "      <td>2348.0</td>\n",
       "      <td>9808.0</td>\n",
       "      <td>NaN</td>\n",
       "      <td>NaN</td>\n",
       "      <td>NaN</td>\n",
       "      <td>3748.0</td>\n",
       "      <td>NaN</td>\n",
       "      <td>NaN</td>\n",
       "      <td>2585.0</td>\n",
       "      <td>...</td>\n",
       "      <td>NaN</td>\n",
       "      <td>NaN</td>\n",
       "      <td>NaN</td>\n",
       "      <td>1476.0</td>\n",
       "      <td>0.047567</td>\n",
       "      <td>1252.0</td>\n",
       "      <td>47014.0</td>\n",
       "      <td>NaN</td>\n",
       "      <td>NaN</td>\n",
       "      <td>4194.0</td>\n",
       "    </tr>\n",
       "    <tr>\n",
       "      <th>Albany</th>\n",
       "      <td>4026.0</td>\n",
       "      <td>156.0</td>\n",
       "      <td>3870.0</td>\n",
       "      <td>NaN</td>\n",
       "      <td>NaN</td>\n",
       "      <td>NaN</td>\n",
       "      <td>756.0</td>\n",
       "      <td>NaN</td>\n",
       "      <td>NaN</td>\n",
       "      <td>472.0</td>\n",
       "      <td>...</td>\n",
       "      <td>NaN</td>\n",
       "      <td>NaN</td>\n",
       "      <td>NaN</td>\n",
       "      <td>324.0</td>\n",
       "      <td>0.042587</td>\n",
       "      <td>180.0</td>\n",
       "      <td>10748.0</td>\n",
       "      <td>NaN</td>\n",
       "      <td>NaN</td>\n",
       "      <td>1156.0</td>\n",
       "    </tr>\n",
       "    <tr>\n",
       "      <th>Alhambra</th>\n",
       "      <td>14236.0</td>\n",
       "      <td>1446.0</td>\n",
       "      <td>12790.0</td>\n",
       "      <td>NaN</td>\n",
       "      <td>NaN</td>\n",
       "      <td>NaN</td>\n",
       "      <td>3984.0</td>\n",
       "      <td>NaN</td>\n",
       "      <td>NaN</td>\n",
       "      <td>2600.0</td>\n",
       "      <td>...</td>\n",
       "      <td>NaN</td>\n",
       "      <td>NaN</td>\n",
       "      <td>NaN</td>\n",
       "      <td>1284.0</td>\n",
       "      <td>0.039912</td>\n",
       "      <td>1216.0</td>\n",
       "      <td>30912.0</td>\n",
       "      <td>NaN</td>\n",
       "      <td>NaN</td>\n",
       "      <td>5250.0</td>\n",
       "    </tr>\n",
       "    <tr>\n",
       "      <th>Anaheim</th>\n",
       "      <td>41535.0</td>\n",
       "      <td>3448.0</td>\n",
       "      <td>38087.0</td>\n",
       "      <td>NaN</td>\n",
       "      <td>NaN</td>\n",
       "      <td>NaN</td>\n",
       "      <td>15806.0</td>\n",
       "      <td>NaN</td>\n",
       "      <td>NaN</td>\n",
       "      <td>11555.0</td>\n",
       "      <td>...</td>\n",
       "      <td>NaN</td>\n",
       "      <td>NaN</td>\n",
       "      <td>NaN</td>\n",
       "      <td>5612.0</td>\n",
       "      <td>0.046881</td>\n",
       "      <td>2960.0</td>\n",
       "      <td>167762.0</td>\n",
       "      <td>NaN</td>\n",
       "      <td>NaN</td>\n",
       "      <td>10098.0</td>\n",
       "    </tr>\n",
       "  </tbody>\n",
       "</table>\n",
       "<p>5 rows × 118 columns</p>\n",
       "</div>"
      ],
      "text/plain": [
       "                1 unit  1, attached  1, detached  1,000 to 1,249  \\\n",
       "year city                                                          \n",
       "1980 NaN       19335.0       1915.0      17420.0             NaN   \n",
       "     Alameda   12156.0       2348.0       9808.0             NaN   \n",
       "     Albany     4026.0        156.0       3870.0             NaN   \n",
       "     Alhambra  14236.0       1446.0      12790.0             NaN   \n",
       "     Anaheim   41535.0       3448.0      38087.0             NaN   \n",
       "\n",
       "               1,250 to 1,499  1,500 to 1,999  10 to 14 years  10 to 19  \\\n",
       "year city                                                                 \n",
       "1980 NaN                  NaN             NaN          5566.0       NaN   \n",
       "     Alameda              NaN             NaN          3748.0       NaN   \n",
       "     Albany               NaN             NaN           756.0       NaN   \n",
       "     Alhambra             NaN             NaN          3984.0       NaN   \n",
       "     Anaheim              NaN             NaN         15806.0       NaN   \n",
       "\n",
       "               10 to 29 percent  15 to 17 years   ...     two races  \\\n",
       "year city                                         ...                 \n",
       "1980 NaN                    NaN          3907.0   ...           NaN   \n",
       "     Alameda                NaN          2585.0   ...           NaN   \n",
       "     Albany                 NaN           472.0   ...           NaN   \n",
       "     Alhambra               NaN          2600.0   ...           NaN   \n",
       "     Anaheim                NaN         11555.0   ...           NaN   \n",
       "\n",
       "               two races householder  under 5 years  unemployed  \\\n",
       "year city                                                         \n",
       "1980 NaN                         NaN            NaN      1767.0   \n",
       "     Alameda                     NaN            NaN      1476.0   \n",
       "     Albany                      NaN            NaN       324.0   \n",
       "     Alhambra                    NaN            NaN      1284.0   \n",
       "     Anaheim                     NaN            NaN      5612.0   \n",
       "\n",
       "               unemployment_rate  vacant  white alone  \\\n",
       "year city                                               \n",
       "1980 NaN                0.048353  1429.0      62422.0   \n",
       "     Alameda            0.047567  1252.0      47014.0   \n",
       "     Albany             0.042587   180.0      10748.0   \n",
       "     Alhambra           0.039912  1216.0      30912.0   \n",
       "     Anaheim            0.046881  2960.0     167762.0   \n",
       "\n",
       "               white alone householder  \\\n",
       "year city                                \n",
       "1980 NaN                           NaN   \n",
       "     Alameda                       NaN   \n",
       "     Albany                        NaN   \n",
       "     Alhambra                      NaN   \n",
       "     Anaheim                       NaN   \n",
       "\n",
       "               white alone householder, not hispanic or latino  widowed  \n",
       "year city                                                                \n",
       "1980 NaN                                                   NaN   4170.0  \n",
       "     Alameda                                               NaN   4194.0  \n",
       "     Albany                                                NaN   1156.0  \n",
       "     Alhambra                                              NaN   5250.0  \n",
       "     Anaheim                                               NaN  10098.0  \n",
       "\n",
       "[5 rows x 118 columns]"
      ]
     },
     "execution_count": 72,
     "metadata": {},
     "output_type": "execute_result"
    }
   ],
   "source": [
    "t_df.head()"
   ]
  },
  {
   "cell_type": "code",
   "execution_count": 84,
   "metadata": {
    "collapsed": true
   },
   "outputs": [],
   "source": [
    "t_df.to_csv(\"/\".join([data_path, 'census_data_1980_2015.csv']))"
   ]
  },
  {
   "cell_type": "code",
   "execution_count": 75,
   "metadata": {
    "collapsed": false
   },
   "outputs": [
    {
     "data": {
      "text/plain": [
       "(2412, 118)"
      ]
     },
     "execution_count": 75,
     "metadata": {},
     "output_type": "execute_result"
    }
   ],
   "source": [
    "t_df.shape"
   ]
  },
  {
   "cell_type": "code",
   "execution_count": 82,
   "metadata": {
    "collapsed": false
   },
   "outputs": [],
   "source": [
    "t_df = t_df.reset_index().drop_duplicates(['city', 'year'])"
   ]
  },
  {
   "cell_type": "code",
   "execution_count": 83,
   "metadata": {
    "collapsed": false
   },
   "outputs": [
    {
     "data": {
      "text/plain": [
       "(2410, 120)"
      ]
     },
     "execution_count": 83,
     "metadata": {},
     "output_type": "execute_result"
    }
   ],
   "source": [
    "t_df.shape"
   ]
  },
  {
   "cell_type": "code",
   "execution_count": null,
   "metadata": {
    "collapsed": true
   },
   "outputs": [],
   "source": []
  }
 ],
 "metadata": {
  "anaconda-cloud": {},
  "kernelspec": {
   "display_name": "Python [Root]",
   "language": "python",
   "name": "Python [Root]"
  },
  "language_info": {
   "codemirror_mode": {
    "name": "ipython",
    "version": 3
   },
   "file_extension": ".py",
   "mimetype": "text/x-python",
   "name": "python",
   "nbconvert_exporter": "python",
   "pygments_lexer": "ipython3",
   "version": "3.5.1"
  }
 },
 "nbformat": 4,
 "nbformat_minor": 0
}
