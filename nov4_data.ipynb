{
 "cells": [
  {
   "cell_type": "code",
   "execution_count": 1,
   "metadata": {
    "collapsed": true
   },
   "outputs": [],
   "source": [
    "import pandas as pd\n",
    "import os\n",
    "import numpy as np\n",
    "import matplotlib.pylab as plt \n",
    "import re\n",
    "%matplotlib inline\n",
    "data_path = \"C:/Users/SpiffyApple/Documents/USC/Courses/Fall2016/PPD599/project/DATA_Nov4\""
   ]
  },
  {
   "cell_type": "code",
   "execution_count": 2,
   "metadata": {
    "collapsed": true
   },
   "outputs": [],
   "source": [
    "#data_files = ['acs'+str(x)+'.csv' for x in np.linspace(2006, 2015, 11).astype(int)]\n",
    "data_files = os.listdir(data_path)\n",
    "data_dict = {}"
   ]
  },
  {
   "cell_type": "code",
   "execution_count": 3,
   "metadata": {
    "collapsed": false
   },
   "outputs": [
    {
     "data": {
      "text/plain": [
       "['1980.csv',\n",
       " '1980.xlsx',\n",
       " '1990.csv',\n",
       " '1990.xlsx',\n",
       " '2000.csv',\n",
       " '2000.xlsx',\n",
       " '2006.csv',\n",
       " '2006.xlsx',\n",
       " '2007.csv',\n",
       " '2007.xlsx',\n",
       " '2008.csv',\n",
       " '2008.xlsx',\n",
       " '2009.csv',\n",
       " '2009.xlsx',\n",
       " '2010.csv',\n",
       " '2010.xlsx',\n",
       " '2011.csv',\n",
       " '2011.xlsx',\n",
       " '2012.csv',\n",
       " '2012.xlsx',\n",
       " '2013.csv',\n",
       " '2013.xlsx',\n",
       " '2014.csv',\n",
       " '2014.xlsx',\n",
       " '2015.csv',\n",
       " '2015.xlsx',\n",
       " 'acs_2006_2015.csv',\n",
       " 'ca_data_1990_2015.csv',\n",
       " 'Population Estimates 1990-2000.csv',\n",
       " 'Population Estimates 2000-2010.csv',\n",
       " 'pop_haus_1990-2010.csv']"
      ]
     },
     "execution_count": 3,
     "metadata": {},
     "output_type": "execute_result"
    }
   ],
   "source": [
    "data_files"
   ]
  },
  {
   "cell_type": "code",
   "execution_count": 4,
   "metadata": {
    "collapsed": false
   },
   "outputs": [
    {
     "name": "stdout",
     "output_type": "stream",
     "text": [
      "population_estimates_1990_2000\n",
      "population_estimates_2000_2010\n"
     ]
    }
   ],
   "source": [
    "for data_file in [x for x in data_files if \"Population Estimates\" in x ]:\n",
    "    #print(data_file)\n",
    "    key = re.sub(\"-| \", \"_\", data_file).lower()\n",
    "    key = key.strip(\".csv\")\n",
    "    print(key)\n",
    "    \"\"\"\n",
    "    if \"Population Estimates\" in data_file:\n",
    "        #data_dict[key] = pd.read_csv(\"/\".join([data_path, data_file]), header=0).dropna(how='all').replace(\"%|,\", \"\", regex=True)\n",
    "        #data_dict[key].iloc[:,0] = data_dict[key].iloc[:,0].str.strip()\n",
    "        #data_dict[key].set_index(data_dict[key].columns[0],inplace=True)\n",
    "        #data_dict[key].columns = data_dict[key].columns.str.extract(\"\\d+/\\d+/(\\d{4})\", expand=False)\n",
    "        #data_dict[key].index.name = \"city\"\n",
    "    \"\"\"    \n",
    "    if \"Population Estimates\" in data_file:\n",
    "        data_dict[key] = pd.read_csv(\"/\".join([data_path, data_file]), header=0).dropna(how='all').replace(\"%|,\", \"\", regex=True)\n",
    "        data_dict[key].columns = data_dict[key].columns.str.lower()\n",
    "        data_dict[key].county.fillna(inplace=True, method='ffill', axis=0)\n",
    "        data_dict[key].date = data_dict[key].date.str.extract(\"\\d+/\\d+/(\\d{4})\", expand=False)\n",
    "        #drop_above =data_dict[key][data_dict[key][data_dict[key].columns[0]] == 'Alameda'].index[0]\n",
    "        #data_dict[key] = data_dict[key].iloc[drop_above:, :]\n",
    "\n",
    "        data_dict[key].loc[data_dict[key].date == re.findall(\"(\\d{4})_\\d+\",key)[0], 'county'] = np.nan\n",
    "        data_dict[key].county.fillna(method = 'bfill', inplace=True)\n",
    "        data_dict[key].set_index(data_dict[key].columns[0], inplace=True)\n",
    "        data_dict[key].index.name = 'city'        \n",
    "\n",
    " "
   ]
  },
  {
   "cell_type": "code",
   "execution_count": 5,
   "metadata": {
    "collapsed": false
   },
   "outputs": [],
   "source": [
    "data_dict['population_estimates_2000_2010'].drop([\"Balance of State\", 'Incorporated', 'California', 'State Total', 'Calfornia', 'County Total'], inplace=True)\n",
    "data_dict['population_estimates_1990_2000'].drop([\"Balance of State\", 'Incorporated', 'California', 'State Total', 'Calfornia', 'County Total'], inplace=True)"
   ]
  },
  {
   "cell_type": "code",
   "execution_count": 6,
   "metadata": {
    "collapsed": false
   },
   "outputs": [
    {
     "name": "stdout",
     "output_type": "stream",
     "text": [
      "Index(['date', 'total', 'household', 'group quarters', 'total.1', 'single',\n",
      "       'multiple', 'mobile homes', 'occupied', 'vacant units', 'vacancy rate',\n",
      "       'persons per household'],\n",
      "      dtype='object')\n",
      "Index(['date', 'total', 'household', 'group quarters', 'total.1', 'single',\n",
      "       'multiple', 'mobile homes', 'occupied', 'vacancy rate',\n",
      "       'persons per household'],\n",
      "      dtype='object')\n"
     ]
    }
   ],
   "source": [
    "print(data_dict['population_estimates_2000_2010'].columns)\n",
    "data_dict['population_estimates_1990_2000'].columns = [re.sub(\"-\", \"\", x) for x in data_dict['population_estimates_1990_2000'].columns]\n",
    "data_dict['population_estimates_1990_2000'].rename(columns={'person per household':'persons per household'}, inplace=True)\n",
    "print(data_dict['population_estimates_1990_2000'].columns)\n"
   ]
  },
  {
   "cell_type": "code",
   "execution_count": 7,
   "metadata": {
    "collapsed": false
   },
   "outputs": [],
   "source": [
    "df = pd.concat([data_dict['population_estimates_1990_2000'],  data_dict['population_estimates_2000_2010']])"
   ]
  },
  {
   "cell_type": "code",
   "execution_count": 8,
   "metadata": {
    "collapsed": false
   },
   "outputs": [],
   "source": [
    "df.reset_index(inplace=True)\n",
    "df.drop_duplicates(['city', 'date'], keep='last', inplace=True)"
   ]
  },
  {
   "cell_type": "code",
   "execution_count": 9,
   "metadata": {
    "collapsed": false
   },
   "outputs": [],
   "source": [
    "#df.reset_index(inplace=True)\n",
    "ml_index = pd.MultiIndex.from_arrays([df.city,df.date])\n",
    "df.set_index(ml_index, inplace=True, drop=True)\n",
    "df.sort_index(inplace=True)"
   ]
  },
  {
   "cell_type": "code",
   "execution_count": 10,
   "metadata": {
    "collapsed": false
   },
   "outputs": [],
   "source": [
    "df.drop(['date','city'], axis=1, inplace=True)"
   ]
  },
  {
   "cell_type": "code",
   "execution_count": 11,
   "metadata": {
    "collapsed": true
   },
   "outputs": [],
   "source": [
    "df.rename(columns = {'total':'population', 'total.1':'housing_units'}, inplace=True)"
   ]
  },
  {
   "cell_type": "code",
   "execution_count": 12,
   "metadata": {
    "collapsed": false
   },
   "outputs": [],
   "source": [
    "df.loc[:,'vacancy rate'] = df.loc[:,'vacancy rate'].astype(float)/100"
   ]
  },
  {
   "cell_type": "code",
   "execution_count": 13,
   "metadata": {
    "collapsed": false
   },
   "outputs": [],
   "source": [
    "df.index.names = ['city', 'year']"
   ]
  },
  {
   "cell_type": "code",
   "execution_count": 14,
   "metadata": {
    "collapsed": true
   },
   "outputs": [],
   "source": [
    "df.to_csv(\"/\".join([data_path, 'pop_haus_1990-2010.csv']))"
   ]
  },
  {
   "cell_type": "markdown",
   "metadata": {},
   "source": [
    "## Merge the datasets"
   ]
  },
  {
   "cell_type": "code",
   "execution_count": 35,
   "metadata": {
    "collapsed": false
   },
   "outputs": [],
   "source": [
    "acs = pd.read_csv(\"/\".join([data_path, \"acs_2006_2015.csv\"]))\n",
    "acs.year = acs.year.astype(str)"
   ]
  },
  {
   "cell_type": "code",
   "execution_count": 37,
   "metadata": {
    "collapsed": false
   },
   "outputs": [],
   "source": [
    "multi_idx = pd.MultiIndex.from_arrays([acs.year, acs.city])\n",
    "acs.set_index(multi_idx, inplace=True)\n",
    "acs.drop(['city', 'year'],axis=1 ,inplace=True)"
   ]
  },
  {
   "cell_type": "code",
   "execution_count": 38,
   "metadata": {
    "collapsed": false
   },
   "outputs": [
    {
     "data": {
      "text/html": [
       "<div>\n",
       "<table border=\"1\" class=\"dataframe\">\n",
       "  <thead>\n",
       "    <tr style=\"text-align: right;\">\n",
       "      <th></th>\n",
       "      <th></th>\n",
       "      <th>foreign born</th>\n",
       "      <th>native hawaiian and other pacific islander alone householder</th>\n",
       "      <th>bachelor's degree</th>\n",
       "      <th>45 to 54 years</th>\n",
       "      <th>naturalized citizen</th>\n",
       "      <th>5 to 9</th>\n",
       "      <th>hh45to50</th>\n",
       "      <th>hh100to125</th>\n",
       "      <th>not computed</th>\n",
       "      <th>800 to 999</th>\n",
       "      <th>...</th>\n",
       "      <th>boat, rv, van, etc.</th>\n",
       "      <th>prop_black</th>\n",
       "      <th>high_or_less</th>\n",
       "      <th>rent_rate</th>\n",
       "      <th>rent_to_income</th>\n",
       "      <th>unemployment_rate</th>\n",
       "      <th>foreign_rate</th>\n",
       "      <th>ami80</th>\n",
       "      <th>ami60</th>\n",
       "      <th>ami40</th>\n",
       "    </tr>\n",
       "    <tr>\n",
       "      <th>year</th>\n",
       "      <th>city</th>\n",
       "      <th></th>\n",
       "      <th></th>\n",
       "      <th></th>\n",
       "      <th></th>\n",
       "      <th></th>\n",
       "      <th></th>\n",
       "      <th></th>\n",
       "      <th></th>\n",
       "      <th></th>\n",
       "      <th></th>\n",
       "      <th></th>\n",
       "      <th></th>\n",
       "      <th></th>\n",
       "      <th></th>\n",
       "      <th></th>\n",
       "      <th></th>\n",
       "      <th></th>\n",
       "      <th></th>\n",
       "      <th></th>\n",
       "      <th></th>\n",
       "      <th></th>\n",
       "    </tr>\n",
       "  </thead>\n",
       "  <tbody>\n",
       "    <tr>\n",
       "      <th rowspan=\"5\" valign=\"top\">2006</th>\n",
       "      <th>Alameda</th>\n",
       "      <td>15685.0</td>\n",
       "      <td>NaN</td>\n",
       "      <td>14332.0</td>\n",
       "      <td>11693.0</td>\n",
       "      <td>10575.0</td>\n",
       "      <td>2360.0</td>\n",
       "      <td>832.0</td>\n",
       "      <td>3420.0</td>\n",
       "      <td>675.0</td>\n",
       "      <td>NaN</td>\n",
       "      <td>...</td>\n",
       "      <td>201.0</td>\n",
       "      <td>NaN</td>\n",
       "      <td>0.256232</td>\n",
       "      <td>0.477781</td>\n",
       "      <td>0.016136</td>\n",
       "      <td>0.085906</td>\n",
       "      <td>0.223408</td>\n",
       "      <td>54040.8</td>\n",
       "      <td>40530.6</td>\n",
       "      <td>27020.4</td>\n",
       "    </tr>\n",
       "    <tr>\n",
       "      <th>Alhambra</th>\n",
       "      <td>42893.0</td>\n",
       "      <td>NaN</td>\n",
       "      <td>14316.0</td>\n",
       "      <td>13186.0</td>\n",
       "      <td>24948.0</td>\n",
       "      <td>5028.0</td>\n",
       "      <td>1364.0</td>\n",
       "      <td>2668.0</td>\n",
       "      <td>642.0</td>\n",
       "      <td>5259.0</td>\n",
       "      <td>...</td>\n",
       "      <td>0.0</td>\n",
       "      <td>0.014493</td>\n",
       "      <td>0.421430</td>\n",
       "      <td>0.560175</td>\n",
       "      <td>0.019853</td>\n",
       "      <td>0.079159</td>\n",
       "      <td>0.525051</td>\n",
       "      <td>39852.8</td>\n",
       "      <td>29889.6</td>\n",
       "      <td>19926.4</td>\n",
       "    </tr>\n",
       "    <tr>\n",
       "      <th>Anaheim</th>\n",
       "      <td>131014.0</td>\n",
       "      <td>42005.0</td>\n",
       "      <td>35495.0</td>\n",
       "      <td>40218.0</td>\n",
       "      <td>51541.0</td>\n",
       "      <td>8083.0</td>\n",
       "      <td>4362.0</td>\n",
       "      <td>9685.0</td>\n",
       "      <td>1395.0</td>\n",
       "      <td>10153.0</td>\n",
       "      <td>...</td>\n",
       "      <td>51.0</td>\n",
       "      <td>0.026602</td>\n",
       "      <td>0.499447</td>\n",
       "      <td>0.458505</td>\n",
       "      <td>0.020603</td>\n",
       "      <td>0.058422</td>\n",
       "      <td>0.380699</td>\n",
       "      <td>44576.0</td>\n",
       "      <td>33432.0</td>\n",
       "      <td>22288.0</td>\n",
       "    </tr>\n",
       "    <tr>\n",
       "      <th>Antioch</th>\n",
       "      <td>20041.0</td>\n",
       "      <td>57172.0</td>\n",
       "      <td>9579.0</td>\n",
       "      <td>16238.0</td>\n",
       "      <td>10088.0</td>\n",
       "      <td>844.0</td>\n",
       "      <td>871.0</td>\n",
       "      <td>4218.0</td>\n",
       "      <td>64.0</td>\n",
       "      <td>NaN</td>\n",
       "      <td>...</td>\n",
       "      <td>0.0</td>\n",
       "      <td>0.158304</td>\n",
       "      <td>0.406578</td>\n",
       "      <td>0.227266</td>\n",
       "      <td>0.015624</td>\n",
       "      <td>0.074095</td>\n",
       "      <td>0.203814</td>\n",
       "      <td>53404.0</td>\n",
       "      <td>40053.0</td>\n",
       "      <td>26702.0</td>\n",
       "    </tr>\n",
       "    <tr>\n",
       "      <th>Bakersfield</th>\n",
       "      <td>53858.0</td>\n",
       "      <td>NaN</td>\n",
       "      <td>24509.0</td>\n",
       "      <td>35824.0</td>\n",
       "      <td>21808.0</td>\n",
       "      <td>6301.0</td>\n",
       "      <td>4207.0</td>\n",
       "      <td>7885.0</td>\n",
       "      <td>1727.0</td>\n",
       "      <td>7830.0</td>\n",
       "      <td>...</td>\n",
       "      <td>46.0</td>\n",
       "      <td>0.074806</td>\n",
       "      <td>0.475226</td>\n",
       "      <td>0.376448</td>\n",
       "      <td>0.015850</td>\n",
       "      <td>0.077400</td>\n",
       "      <td>0.175928</td>\n",
       "      <td>41136.8</td>\n",
       "      <td>30852.6</td>\n",
       "      <td>20568.4</td>\n",
       "    </tr>\n",
       "  </tbody>\n",
       "</table>\n",
       "<p>5 rows × 112 columns</p>\n",
       "</div>"
      ],
      "text/plain": [
       "                  foreign born  \\\n",
       "year city                        \n",
       "2006 Alameda           15685.0   \n",
       "     Alhambra          42893.0   \n",
       "     Anaheim          131014.0   \n",
       "     Antioch           20041.0   \n",
       "     Bakersfield       53858.0   \n",
       "\n",
       "                  native hawaiian and other pacific islander alone householder  \\\n",
       "year city                                                                        \n",
       "2006 Alameda                                                    NaN              \n",
       "     Alhambra                                                   NaN              \n",
       "     Anaheim                                                42005.0              \n",
       "     Antioch                                                57172.0              \n",
       "     Bakersfield                                                NaN              \n",
       "\n",
       "                  bachelor's degree  45 to 54 years  naturalized citizen  \\\n",
       "year city                                                                  \n",
       "2006 Alameda                14332.0         11693.0              10575.0   \n",
       "     Alhambra               14316.0         13186.0              24948.0   \n",
       "     Anaheim                35495.0         40218.0              51541.0   \n",
       "     Antioch                 9579.0         16238.0              10088.0   \n",
       "     Bakersfield            24509.0         35824.0              21808.0   \n",
       "\n",
       "                  5 to 9  hh45to50  hh100to125  not computed  800 to 999  \\\n",
       "year city                                                                  \n",
       "2006 Alameda      2360.0     832.0      3420.0         675.0         NaN   \n",
       "     Alhambra     5028.0    1364.0      2668.0         642.0      5259.0   \n",
       "     Anaheim      8083.0    4362.0      9685.0        1395.0     10153.0   \n",
       "     Antioch       844.0     871.0      4218.0          64.0         NaN   \n",
       "     Bakersfield  6301.0    4207.0      7885.0        1727.0      7830.0   \n",
       "\n",
       "                   ...     boat, rv, van, etc.  prop_black  high_or_less  \\\n",
       "year city          ...                                                     \n",
       "2006 Alameda       ...                   201.0         NaN      0.256232   \n",
       "     Alhambra      ...                     0.0    0.014493      0.421430   \n",
       "     Anaheim       ...                    51.0    0.026602      0.499447   \n",
       "     Antioch       ...                     0.0    0.158304      0.406578   \n",
       "     Bakersfield   ...                    46.0    0.074806      0.475226   \n",
       "\n",
       "                  rent_rate  rent_to_income  unemployment_rate  foreign_rate  \\\n",
       "year city                                                                      \n",
       "2006 Alameda       0.477781        0.016136           0.085906      0.223408   \n",
       "     Alhambra      0.560175        0.019853           0.079159      0.525051   \n",
       "     Anaheim       0.458505        0.020603           0.058422      0.380699   \n",
       "     Antioch       0.227266        0.015624           0.074095      0.203814   \n",
       "     Bakersfield   0.376448        0.015850           0.077400      0.175928   \n",
       "\n",
       "                    ami80    ami60    ami40  \n",
       "year city                                    \n",
       "2006 Alameda      54040.8  40530.6  27020.4  \n",
       "     Alhambra     39852.8  29889.6  19926.4  \n",
       "     Anaheim      44576.0  33432.0  22288.0  \n",
       "     Antioch      53404.0  40053.0  26702.0  \n",
       "     Bakersfield  41136.8  30852.6  20568.4  \n",
       "\n",
       "[5 rows x 112 columns]"
      ]
     },
     "execution_count": 38,
     "metadata": {},
     "output_type": "execute_result"
    }
   ],
   "source": [
    "acs.head()"
   ]
  },
  {
   "cell_type": "code",
   "execution_count": 39,
   "metadata": {
    "collapsed": false
   },
   "outputs": [
    {
     "data": {
      "text/plain": [
       "Index(['2006', '2007', '2008', '2009', '2010', '2011', '2012', '2013', '2014',\n",
       "       '2015'],\n",
       "      dtype='object', name='year')"
      ]
     },
     "execution_count": 39,
     "metadata": {},
     "output_type": "execute_result"
    }
   ],
   "source": [
    "acs.index.levels[0]"
   ]
  },
  {
   "cell_type": "code",
   "execution_count": 52,
   "metadata": {
    "collapsed": false
   },
   "outputs": [],
   "source": [
    "ca_df = df.reset_index().merge(acs.reset_index(), on=['city', 'year'], how='outer')"
   ]
  },
  {
   "cell_type": "code",
   "execution_count": 53,
   "metadata": {
    "collapsed": false
   },
   "outputs": [],
   "source": [
    "#ca_df = pd.concat([df, acs], axis=1)"
   ]
  },
  {
   "cell_type": "code",
   "execution_count": 54,
   "metadata": {
    "collapsed": false
   },
   "outputs": [
    {
     "data": {
      "text/plain": [
       "(10699, 125)"
      ]
     },
     "execution_count": 54,
     "metadata": {},
     "output_type": "execute_result"
    }
   ],
   "source": [
    "ca_df.shape"
   ]
  },
  {
   "cell_type": "code",
   "execution_count": 55,
   "metadata": {
    "collapsed": false
   },
   "outputs": [
    {
     "data": {
      "text/html": [
       "<div>\n",
       "<table border=\"1\" class=\"dataframe\">\n",
       "  <thead>\n",
       "    <tr style=\"text-align: right;\">\n",
       "      <th></th>\n",
       "      <th>city</th>\n",
       "      <th>year</th>\n",
       "      <th>group quarters</th>\n",
       "      <th>household</th>\n",
       "      <th>mobile homes</th>\n",
       "      <th>multiple</th>\n",
       "      <th>occupied</th>\n",
       "      <th>persons per household</th>\n",
       "      <th>single</th>\n",
       "      <th>population</th>\n",
       "      <th>...</th>\n",
       "      <th>boat, rv, van, etc.</th>\n",
       "      <th>prop_black</th>\n",
       "      <th>high_or_less</th>\n",
       "      <th>rent_rate</th>\n",
       "      <th>rent_to_income</th>\n",
       "      <th>unemployment_rate</th>\n",
       "      <th>foreign_rate</th>\n",
       "      <th>ami80</th>\n",
       "      <th>ami60</th>\n",
       "      <th>ami40</th>\n",
       "    </tr>\n",
       "  </thead>\n",
       "  <tbody>\n",
       "    <tr>\n",
       "      <th>0</th>\n",
       "      <td>Adelanto</td>\n",
       "      <td>1990</td>\n",
       "      <td>0</td>\n",
       "      <td>6791</td>\n",
       "      <td>381</td>\n",
       "      <td>1306</td>\n",
       "      <td>2459</td>\n",
       "      <td>2.762</td>\n",
       "      <td>1066</td>\n",
       "      <td>6791</td>\n",
       "      <td>...</td>\n",
       "      <td>NaN</td>\n",
       "      <td>NaN</td>\n",
       "      <td>NaN</td>\n",
       "      <td>NaN</td>\n",
       "      <td>NaN</td>\n",
       "      <td>NaN</td>\n",
       "      <td>NaN</td>\n",
       "      <td>NaN</td>\n",
       "      <td>NaN</td>\n",
       "      <td>NaN</td>\n",
       "    </tr>\n",
       "    <tr>\n",
       "      <th>1</th>\n",
       "      <td>Adelanto</td>\n",
       "      <td>1991</td>\n",
       "      <td>2</td>\n",
       "      <td>7121</td>\n",
       "      <td>384</td>\n",
       "      <td>1294</td>\n",
       "      <td>2471</td>\n",
       "      <td>2.882</td>\n",
       "      <td>1110</td>\n",
       "      <td>7123</td>\n",
       "      <td>...</td>\n",
       "      <td>NaN</td>\n",
       "      <td>NaN</td>\n",
       "      <td>NaN</td>\n",
       "      <td>NaN</td>\n",
       "      <td>NaN</td>\n",
       "      <td>NaN</td>\n",
       "      <td>NaN</td>\n",
       "      <td>NaN</td>\n",
       "      <td>NaN</td>\n",
       "      <td>NaN</td>\n",
       "    </tr>\n",
       "    <tr>\n",
       "      <th>2</th>\n",
       "      <td>Adelanto</td>\n",
       "      <td>1992</td>\n",
       "      <td>425</td>\n",
       "      <td>8008</td>\n",
       "      <td>413</td>\n",
       "      <td>1278</td>\n",
       "      <td>2696</td>\n",
       "      <td>2.970</td>\n",
       "      <td>1375</td>\n",
       "      <td>8433</td>\n",
       "      <td>...</td>\n",
       "      <td>NaN</td>\n",
       "      <td>NaN</td>\n",
       "      <td>NaN</td>\n",
       "      <td>NaN</td>\n",
       "      <td>NaN</td>\n",
       "      <td>NaN</td>\n",
       "      <td>NaN</td>\n",
       "      <td>NaN</td>\n",
       "      <td>NaN</td>\n",
       "      <td>NaN</td>\n",
       "    </tr>\n",
       "    <tr>\n",
       "      <th>3</th>\n",
       "      <td>Adelanto</td>\n",
       "      <td>1993</td>\n",
       "      <td>397</td>\n",
       "      <td>10279</td>\n",
       "      <td>424</td>\n",
       "      <td>1262</td>\n",
       "      <td>3400</td>\n",
       "      <td>3.023</td>\n",
       "      <td>2195</td>\n",
       "      <td>10676</td>\n",
       "      <td>...</td>\n",
       "      <td>NaN</td>\n",
       "      <td>NaN</td>\n",
       "      <td>NaN</td>\n",
       "      <td>NaN</td>\n",
       "      <td>NaN</td>\n",
       "      <td>NaN</td>\n",
       "      <td>NaN</td>\n",
       "      <td>NaN</td>\n",
       "      <td>NaN</td>\n",
       "      <td>NaN</td>\n",
       "    </tr>\n",
       "    <tr>\n",
       "      <th>4</th>\n",
       "      <td>Adelanto</td>\n",
       "      <td>1994</td>\n",
       "      <td>435</td>\n",
       "      <td>12273</td>\n",
       "      <td>463</td>\n",
       "      <td>1246</td>\n",
       "      <td>3881</td>\n",
       "      <td>3.162</td>\n",
       "      <td>2738</td>\n",
       "      <td>12708</td>\n",
       "      <td>...</td>\n",
       "      <td>NaN</td>\n",
       "      <td>NaN</td>\n",
       "      <td>NaN</td>\n",
       "      <td>NaN</td>\n",
       "      <td>NaN</td>\n",
       "      <td>NaN</td>\n",
       "      <td>NaN</td>\n",
       "      <td>NaN</td>\n",
       "      <td>NaN</td>\n",
       "      <td>NaN</td>\n",
       "    </tr>\n",
       "  </tbody>\n",
       "</table>\n",
       "<p>5 rows × 125 columns</p>\n",
       "</div>"
      ],
      "text/plain": [
       "       city  year group quarters household mobile homes multiple occupied  \\\n",
       "0  Adelanto  1990              0      6791          381     1306     2459   \n",
       "1  Adelanto  1991              2      7121          384     1294     2471   \n",
       "2  Adelanto  1992            425      8008          413     1278     2696   \n",
       "3  Adelanto  1993            397     10279          424     1262     3400   \n",
       "4  Adelanto  1994            435     12273          463     1246     3881   \n",
       "\n",
       "   persons per household single population  ...   boat, rv, van, etc.  \\\n",
       "0                  2.762   1066       6791  ...                   NaN   \n",
       "1                  2.882   1110       7123  ...                   NaN   \n",
       "2                  2.970   1375       8433  ...                   NaN   \n",
       "3                  3.023   2195      10676  ...                   NaN   \n",
       "4                  3.162   2738      12708  ...                   NaN   \n",
       "\n",
       "   prop_black high_or_less  rent_rate  rent_to_income  unemployment_rate  \\\n",
       "0         NaN          NaN        NaN             NaN                NaN   \n",
       "1         NaN          NaN        NaN             NaN                NaN   \n",
       "2         NaN          NaN        NaN             NaN                NaN   \n",
       "3         NaN          NaN        NaN             NaN                NaN   \n",
       "4         NaN          NaN        NaN             NaN                NaN   \n",
       "\n",
       "   foreign_rate  ami80  ami60  ami40  \n",
       "0           NaN    NaN    NaN    NaN  \n",
       "1           NaN    NaN    NaN    NaN  \n",
       "2           NaN    NaN    NaN    NaN  \n",
       "3           NaN    NaN    NaN    NaN  \n",
       "4           NaN    NaN    NaN    NaN  \n",
       "\n",
       "[5 rows x 125 columns]"
      ]
     },
     "execution_count": 55,
     "metadata": {},
     "output_type": "execute_result"
    }
   ],
   "source": [
    "ca_df.head()"
   ]
  },
  {
   "cell_type": "code",
   "execution_count": 57,
   "metadata": {
    "collapsed": false
   },
   "outputs": [],
   "source": [
    "ca_df.to_csv(\"/\".join([data_path, \"ca_data_1990_2015.csv\"]))"
   ]
  },
  {
   "cell_type": "markdown",
   "metadata": {
    "collapsed": true
   },
   "source": [
    "### merging datasets with census"
   ]
  },
  {
   "cell_type": "code",
   "execution_count": 66,
   "metadata": {
    "collapsed": true
   },
   "outputs": [],
   "source": [
    "census_df = pd.read_csv(\"/\".join([data_path, 'census_data_1980_2015.csv']))"
   ]
  },
  {
   "cell_type": "code",
   "execution_count": 67,
   "metadata": {
    "collapsed": false
   },
   "outputs": [],
   "source": [
    "census_df.year = census_df.year.astype(str)"
   ]
  },
  {
   "cell_type": "code",
   "execution_count": 76,
   "metadata": {
    "collapsed": false
   },
   "outputs": [
    {
     "data": {
      "text/plain": [
       "(10988, 131)"
      ]
     },
     "execution_count": 76,
     "metadata": {},
     "output_type": "execute_result"
    }
   ],
   "source": [
    "ca2_df = df.reset_index().merge(census_df, on=['city', 'year'], how='outer')\n",
    "ca2_df.shape"
   ]
  },
  {
   "cell_type": "code",
   "execution_count": 78,
   "metadata": {
    "collapsed": false
   },
   "outputs": [],
   "source": [
    "ca2_df.reset_index().drop_duplicates(['city', 'year']).to_csv(\"/\".join([data_path, 'ca_data_1980_2015.csv']))"
   ]
  },
  {
   "cell_type": "code",
   "execution_count": 70,
   "metadata": {
    "collapsed": false
   },
   "outputs": [],
   "source": [
    "ca2_df.to_csv(\"/\".join([data_path, 'ca_data_1980_2015.csv']))"
   ]
  },
  {
   "cell_type": "code",
   "execution_count": 75,
   "metadata": {
    "collapsed": false
   },
   "outputs": [
    {
     "data": {
      "text/html": [
       "<div>\n",
       "<table border=\"1\" class=\"dataframe\">\n",
       "  <thead>\n",
       "    <tr style=\"text-align: right;\">\n",
       "      <th></th>\n",
       "      <th>city</th>\n",
       "      <th>year</th>\n",
       "      <th>group quarters</th>\n",
       "      <th>household</th>\n",
       "      <th>mobile homes</th>\n",
       "      <th>multiple</th>\n",
       "      <th>occupied_x</th>\n",
       "      <th>persons per household</th>\n",
       "      <th>single</th>\n",
       "      <th>population</th>\n",
       "      <th>...</th>\n",
       "      <th>two races</th>\n",
       "      <th>two races householder</th>\n",
       "      <th>under 5 years</th>\n",
       "      <th>unemployed</th>\n",
       "      <th>unemployment_rate</th>\n",
       "      <th>vacant</th>\n",
       "      <th>white alone</th>\n",
       "      <th>white alone householder</th>\n",
       "      <th>white alone householder, not hispanic or latino</th>\n",
       "      <th>widowed</th>\n",
       "    </tr>\n",
       "  </thead>\n",
       "  <tbody>\n",
       "    <tr>\n",
       "      <th>0</th>\n",
       "      <td>Adelanto</td>\n",
       "      <td>1990</td>\n",
       "      <td>0</td>\n",
       "      <td>6791</td>\n",
       "      <td>381</td>\n",
       "      <td>1306</td>\n",
       "      <td>2459</td>\n",
       "      <td>2.762</td>\n",
       "      <td>1066</td>\n",
       "      <td>6791</td>\n",
       "      <td>...</td>\n",
       "      <td>NaN</td>\n",
       "      <td>NaN</td>\n",
       "      <td>NaN</td>\n",
       "      <td>510.0</td>\n",
       "      <td>0.183058</td>\n",
       "      <td>346.0</td>\n",
       "      <td>5430.0</td>\n",
       "      <td>NaN</td>\n",
       "      <td>NaN</td>\n",
       "      <td>199.0</td>\n",
       "    </tr>\n",
       "    <tr>\n",
       "      <th>1</th>\n",
       "      <td>Adelanto</td>\n",
       "      <td>1991</td>\n",
       "      <td>2</td>\n",
       "      <td>7121</td>\n",
       "      <td>384</td>\n",
       "      <td>1294</td>\n",
       "      <td>2471</td>\n",
       "      <td>2.882</td>\n",
       "      <td>1110</td>\n",
       "      <td>7123</td>\n",
       "      <td>...</td>\n",
       "      <td>NaN</td>\n",
       "      <td>NaN</td>\n",
       "      <td>NaN</td>\n",
       "      <td>NaN</td>\n",
       "      <td>NaN</td>\n",
       "      <td>NaN</td>\n",
       "      <td>NaN</td>\n",
       "      <td>NaN</td>\n",
       "      <td>NaN</td>\n",
       "      <td>NaN</td>\n",
       "    </tr>\n",
       "    <tr>\n",
       "      <th>2</th>\n",
       "      <td>Adelanto</td>\n",
       "      <td>1992</td>\n",
       "      <td>425</td>\n",
       "      <td>8008</td>\n",
       "      <td>413</td>\n",
       "      <td>1278</td>\n",
       "      <td>2696</td>\n",
       "      <td>2.970</td>\n",
       "      <td>1375</td>\n",
       "      <td>8433</td>\n",
       "      <td>...</td>\n",
       "      <td>NaN</td>\n",
       "      <td>NaN</td>\n",
       "      <td>NaN</td>\n",
       "      <td>NaN</td>\n",
       "      <td>NaN</td>\n",
       "      <td>NaN</td>\n",
       "      <td>NaN</td>\n",
       "      <td>NaN</td>\n",
       "      <td>NaN</td>\n",
       "      <td>NaN</td>\n",
       "    </tr>\n",
       "    <tr>\n",
       "      <th>3</th>\n",
       "      <td>Adelanto</td>\n",
       "      <td>1993</td>\n",
       "      <td>397</td>\n",
       "      <td>10279</td>\n",
       "      <td>424</td>\n",
       "      <td>1262</td>\n",
       "      <td>3400</td>\n",
       "      <td>3.023</td>\n",
       "      <td>2195</td>\n",
       "      <td>10676</td>\n",
       "      <td>...</td>\n",
       "      <td>NaN</td>\n",
       "      <td>NaN</td>\n",
       "      <td>NaN</td>\n",
       "      <td>NaN</td>\n",
       "      <td>NaN</td>\n",
       "      <td>NaN</td>\n",
       "      <td>NaN</td>\n",
       "      <td>NaN</td>\n",
       "      <td>NaN</td>\n",
       "      <td>NaN</td>\n",
       "    </tr>\n",
       "    <tr>\n",
       "      <th>4</th>\n",
       "      <td>Adelanto</td>\n",
       "      <td>1994</td>\n",
       "      <td>435</td>\n",
       "      <td>12273</td>\n",
       "      <td>463</td>\n",
       "      <td>1246</td>\n",
       "      <td>3881</td>\n",
       "      <td>3.162</td>\n",
       "      <td>2738</td>\n",
       "      <td>12708</td>\n",
       "      <td>...</td>\n",
       "      <td>NaN</td>\n",
       "      <td>NaN</td>\n",
       "      <td>NaN</td>\n",
       "      <td>NaN</td>\n",
       "      <td>NaN</td>\n",
       "      <td>NaN</td>\n",
       "      <td>NaN</td>\n",
       "      <td>NaN</td>\n",
       "      <td>NaN</td>\n",
       "      <td>NaN</td>\n",
       "    </tr>\n",
       "  </tbody>\n",
       "</table>\n",
       "<p>5 rows × 131 columns</p>\n",
       "</div>"
      ],
      "text/plain": [
       "       city  year group quarters household mobile homes multiple occupied_x  \\\n",
       "0  Adelanto  1990              0      6791          381     1306       2459   \n",
       "1  Adelanto  1991              2      7121          384     1294       2471   \n",
       "2  Adelanto  1992            425      8008          413     1278       2696   \n",
       "3  Adelanto  1993            397     10279          424     1262       3400   \n",
       "4  Adelanto  1994            435     12273          463     1246       3881   \n",
       "\n",
       "   persons per household single population   ...    two races  \\\n",
       "0                  2.762   1066       6791   ...          NaN   \n",
       "1                  2.882   1110       7123   ...          NaN   \n",
       "2                  2.970   1375       8433   ...          NaN   \n",
       "3                  3.023   2195      10676   ...          NaN   \n",
       "4                  3.162   2738      12708   ...          NaN   \n",
       "\n",
       "   two races householder under 5 years  unemployed  unemployment_rate  vacant  \\\n",
       "0                    NaN           NaN       510.0           0.183058   346.0   \n",
       "1                    NaN           NaN         NaN                NaN     NaN   \n",
       "2                    NaN           NaN         NaN                NaN     NaN   \n",
       "3                    NaN           NaN         NaN                NaN     NaN   \n",
       "4                    NaN           NaN         NaN                NaN     NaN   \n",
       "\n",
       "   white alone  white alone householder  \\\n",
       "0       5430.0                      NaN   \n",
       "1          NaN                      NaN   \n",
       "2          NaN                      NaN   \n",
       "3          NaN                      NaN   \n",
       "4          NaN                      NaN   \n",
       "\n",
       "   white alone householder, not hispanic or latino  widowed  \n",
       "0                                              NaN    199.0  \n",
       "1                                              NaN      NaN  \n",
       "2                                              NaN      NaN  \n",
       "3                                              NaN      NaN  \n",
       "4                                              NaN      NaN  \n",
       "\n",
       "[5 rows x 131 columns]"
      ]
     },
     "execution_count": 75,
     "metadata": {},
     "output_type": "execute_result"
    }
   ],
   "source": [
    "ca2_df.head()"
   ]
  },
  {
   "cell_type": "code",
   "execution_count": null,
   "metadata": {
    "collapsed": true
   },
   "outputs": [],
   "source": []
  }
 ],
 "metadata": {
  "kernelspec": {
   "display_name": "Python [Root]",
   "language": "python",
   "name": "Python [Root]"
  },
  "language_info": {
   "codemirror_mode": {
    "name": "ipython",
    "version": 3
   },
   "file_extension": ".py",
   "mimetype": "text/x-python",
   "name": "python",
   "nbconvert_exporter": "python",
   "pygments_lexer": "ipython3",
   "version": "3.5.1"
  }
 },
 "nbformat": 4,
 "nbformat_minor": 0
}
